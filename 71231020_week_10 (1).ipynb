{
  "nbformat": 4,
  "nbformat_minor": 0,
  "metadata": {
    "colab": {
      "provenance": []
    },
    "kernelspec": {
      "name": "python3",
      "display_name": "Python 3"
    },
    "language_info": {
      "name": "python"
    }
  },
  "cells": [
    {
      "cell_type": "markdown",
      "source": [
        "soal 1\n"
      ],
      "metadata": {
        "id": "z4ykwlNUY3zR"
      }
    },
    {
      "cell_type": "code",
      "source": [
        "def cari_nilai(daftar):\n",
        "    daftar_urut = sorted(daftar, reverse=True)\n",
        "    nilai_terbaik = daftar_urut[:3]\n",
        "    return nilai_terbaik\n",
        "daftar_nilai = [100,90,65,34,56,90]\n",
        "\n",
        "\n",
        "nilai_terbaik = cari_nilai(daftar_nilai)\n",
        "\n",
        "print(\"3 nilai terbaik:\", end=\" \")\n",
        "for nilai in nilai_terbaik:\n",
        "    print(nilai, end=\" \")\n"
      ],
      "metadata": {
        "colab": {
          "base_uri": "https://localhost:8080/"
        },
        "id": "Nyk_7rd-Y6op",
        "outputId": "f18e2950-13ce-431c-eafd-fe3fc3bc36fc"
      },
      "execution_count": 1,
      "outputs": [
        {
          "output_type": "stream",
          "name": "stdout",
          "text": [
            "3 nilai terbaik: 100 90 90 "
          ]
        }
      ]
    },
    {
      "cell_type": "markdown",
      "source": [
        "soal 2"
      ],
      "metadata": {
        "id": "1faDoAC-ZDS-"
      }
    },
    {
      "cell_type": "code",
      "source": [
        "number = []\n",
        "while True:\n",
        "    masukan = input(\"masukkan angka (/ketik 'done' untuk mengakhiri): \")\n",
        "    if masukan == 'done':\n",
        "        break\n",
        "    else:\n",
        "        user = int(input(\"masukkan angka anda: \"))\n",
        "        number.append(user)\n",
        "\n",
        "print(f\"list anda: {number}\")\n",
        "print(f\"nilai paling besar: {max(number)}\")\n",
        "print(f\"nilai paling kecil: {min(number)}\")"
      ],
      "metadata": {
        "colab": {
          "base_uri": "https://localhost:8080/"
        },
        "id": "Ha0AnGbsZEUY",
        "outputId": "5a386491-ef52-4ac5-efae-59d969b82e01"
      },
      "execution_count": 4,
      "outputs": [
        {
          "output_type": "stream",
          "name": "stdout",
          "text": [
            "masukkan angka (/ketik 'done' untuk mengakhiri): 30\n",
            "masukkan angka anda: 59\n",
            "masukkan angka (/ketik 'done' untuk mengakhiri): 70\n",
            "masukkan angka anda: 5\n",
            "masukkan angka (/ketik 'done' untuk mengakhiri): done\n",
            "list anda: [59, 5]\n",
            "nilai paling besar: 59\n",
            "nilai paling kecil: 5\n"
          ]
        }
      ]
    },
    {
      "cell_type": "markdown",
      "source": [
        "soal 3"
      ],
      "metadata": {
        "id": "VEMRmBKeZbHU"
      }
    },
    {
      "cell_type": "code",
      "source": [
        "with open(\"berita.txt\", \"r\") as file:\n",
        "    kata_yang_unik = set()\n",
        "    for baris in file:\n",
        "        kata_baris = baris.split()\n",
        "        kata_yang_unik.update(kata_baris)\n",
        "print(\"Kata Unik pada Berita:\")\n",
        "print(kata_yang_unik)\n",
        "\n"
      ],
      "metadata": {
        "id": "SUAhYWlFZcJi"
      },
      "execution_count": null,
      "outputs": []
    }
  ]
}